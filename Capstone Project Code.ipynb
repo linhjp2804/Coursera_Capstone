{
 "cells": [
  {
   "cell_type": "markdown",
   "metadata": {},
   "source": [
    "<h1 align=center><font size = 6>Segmenting and Clustering Neighborhoods in Philadelphia</font></h1>"
   ]
  },
  {
   "cell_type": "markdown",
   "metadata": {},
   "source": [
    "## 1. Get, Clean and Transform data into Dataframe"
   ]
  },
  {
   "cell_type": "markdown",
   "metadata": {},
   "source": [
    "#### Install packages"
   ]
  },
  {
   "cell_type": "code",
   "execution_count": null,
   "metadata": {},
   "outputs": [],
   "source": [
    "!pip install lxml\n",
    "!conda install -c conda-forge geopy --yes # uncomment this line if you haven't completed the Foursquare API lab\n",
    "!conda install -c conda-forge folium=0.5.0 --yes # uncomment this line if you haven't completed the Foursquare API lab\n",
    "!pip install beautifulsoup4\n",
    "!pip install uszipcode\n",
    "!pip install geocoder"
   ]
  },
  {
   "cell_type": "markdown",
   "metadata": {},
   "source": [
    "#### Import libraries"
   ]
  },
  {
   "cell_type": "code",
   "execution_count": null,
   "metadata": {},
   "outputs": [],
   "source": [
    "\n",
    "import numpy as np # library to handle data in a vectorized manner\n",
    "\n",
    "import pandas as pd # library for data analsysis\n",
    "pd.set_option('display.max_columns', None)\n",
    "pd.set_option('display.max_rows', None)\n",
    "\n",
    "import json # library to handle JSON files\n",
    "\n",
    "\n",
    "from geopy.geocoders import Nominatim # convert an address into latitude and longitude values\n",
    "\n",
    "import requests # library to handle requests\n",
    "from pandas.io.json import json_normalize # tranform JSON file into a pandas dataframe\n",
    "\n",
    "# Matplotlib and associated plotting modules\n",
    "import matplotlib.cm as cm\n",
    "import matplotlib.colors as colors\n",
    "\n",
    "# import k-means from clustering stage\n",
    "from sklearn.cluster import KMeans\n",
    "\n",
    "\n",
    "import folium # map rendering library\n",
    "\n",
    "\n",
    "from bs4 import BeautifulSoup\n",
    "\n",
    "import geocoder # import geocoder\n",
    "from uszipcode import SearchEngine"
   ]
  },
  {
   "cell_type": "markdown",
   "metadata": {},
   "source": [
    "### Scrape neighborhoods data from Wiki and transform to dataframe"
   ]
  },
  {
   "cell_type": "code",
   "execution_count": null,
   "metadata": {},
   "outputs": [],
   "source": [
    "source = requests.get('https://en.wikipedia.org/wiki/Callowhill,_Philadelphia').text\n",
    "soup = BeautifulSoup(source, 'html5lib')\n",
    "all_li_tag= []\n",
    "for x in soup.find_all('li'):\n",
    "    all_li_tag.append(x.text)\n",
    "indexes = range(0,14)\n",
    "for index in sorted(indexes, reverse=True):\n",
    "    del all_li_tag[index]\n",
    "philly_neighborhoods = pd.DataFrame({\"Borough\":'',\"Neighborhoods\":all_li_tag})\n",
    "philly_neighborhoods = philly_neighborhoods.drop(philly_neighborhoods.tail(79).index)\n",
    "philly_neighborhoods"
   ]
  },
  {
   "cell_type": "code",
   "execution_count": null,
   "metadata": {},
   "outputs": [],
   "source": [
    "##Add Borough to df1\n",
    "philly_neighborhoods.loc[0:12]['Borough'] = \"Center City\"\n",
    "philly_neighborhoods.loc[13:48]['Borough'] = \"South\"\n",
    "philly_neighborhoods.loc[49:59]['Borough'] = \"Southwest\"\n",
    "philly_neighborhoods.loc[60:111]['Borough'] = \"Lower North\"\n",
    "philly_neighborhoods.loc[112:120]['Borough'] = \"North, Uper North\"\n",
    "philly_neighborhoods.loc[121:128]['Borough'] = \"Olney-Oak Lane\"\n",
    "philly_neighborhoods.loc[129:134]['Borough'] = \"Lower Northwest\"\n",
    "philly_neighborhoods.loc[135:141]['Borough'] = \"Uper Northwest\"\n",
    "philly_neighborhoods.loc[142:157]['Borough'] = \"Near Northeast\"\n",
    "philly_neighborhoods.loc[158:172]['Borough'] = \"Far Northeast\"\n",
    "philly_neighborhoods.loc[173:]['Borough'] = \"River Wards\""
   ]
  },
  {
   "cell_type": "markdown",
   "metadata": {},
   "source": [
    "### Get coordintates for neighborhoods - Add them to dataframe"
   ]
  },
  {
   "cell_type": "code",
   "execution_count": null,
   "metadata": {},
   "outputs": [],
   "source": [
    "philly_neighborhoods[\"lon\"] = np.nan  #tab to show suggestion\n",
    "philly_neighborhoods[\"lat\"] = np.nan\n",
    "\n",
    "geolocator = Nominatim(user_agent=\"philly_explorer\")\n",
    "for i in range(len(philly_neighborhoods)):\n",
    "    #print(i)\n",
    "    address = philly_neighborhoods['Neighborhoods'][i] + \", Philadelphia, Pennsylvania\" # df1[i][2]\n",
    "    location = None\n",
    "    for j in range(3):\n",
    "        location = geolocator.geocode(address)\n",
    "        if location is not None:\n",
    "            break\n",
    "\n",
    "    if location is None:\n",
    "        continue\n",
    "    philly_neighborhoods[\"lat\"][i] = location.latitude    \n",
    "    philly_neighborhoods[\"lon\"][i] = location.longitude\n",
    "   \n",
    "    #print(address)"
   ]
  },
  {
   "cell_type": "code",
   "execution_count": null,
   "metadata": {},
   "outputs": [],
   "source": [
    "#save dataframe to csv file since geolocator is not consistant and cannot run too many times\n",
    "philly_neighborhoods.to_csv('philly_coordinates.csv')"
   ]
  },
  {
   "cell_type": "markdown",
   "metadata": {},
   "source": [
    "#### Open dataframe from CSV, dataframe now includes: Borough, Neighborhoods, Latitude(lat) and Longtitude(lon)"
   ]
  },
  {
   "cell_type": "code",
   "execution_count": null,
   "metadata": {},
   "outputs": [],
   "source": [
    "philly_data = pd.read_csv(\"philly_coordinates.csv\") \n",
    "philly_data = philly_data[[\"Borough\",\"Neighborhoods\",\"lat\",\"lon\"]]\n",
    "philly_data.dropna(inplace = True)\n",
    "philly_data.head()"
   ]
  },
  {
   "cell_type": "markdown",
   "metadata": {},
   "source": [
    "### Use uszipcode library to get population density and average income for each neighborhood"
   ]
  },
  {
   "cell_type": "markdown",
   "metadata": {},
   "source": [
    "#### Get population_density, average household income for each neighborhood. Add them to dataframe"
   ]
  },
  {
   "cell_type": "code",
   "execution_count": null,
   "metadata": {},
   "outputs": [],
   "source": [
    "search = SearchEngine(simple_zipcode=True) # set simple_zipcode=False to use rich info database\n",
    "\n",
    "# philly_data['average income'] = np.nan\n",
    "average_income = []\n",
    "population = []\n",
    "average_housing_units = []\n",
    "average_home_value = []\n",
    "for x in range(len(philly_data)):\n",
    "    zipcode = search.by_coordinates(philly_data['lat'].iloc[x], philly_data['lon'].iloc[x], radius=20)\n",
    "    list_0=[]\n",
    "    list_1 = []\n",
    "    list_2 = []\n",
    "    list_3 = []\n",
    "    for i in range(len(zipcode)):\n",
    "        if abs(zipcode[i].bounds_south) <abs(philly_data['lat'].iloc[x])<abs(zipcode[i].bounds_north) and abs(zipcode[i].bounds_east) <abs(philly_data['lon'].iloc[x])<abs(zipcode[i].bounds_west):\n",
    "            list_0.append(zipcode[i].median_household_income)\n",
    "            list_1.append(zipcode[i].population_density)\n",
    "            list_2.append(zipcode[i].housing_units)\n",
    "            list_3.append(zipcode[i].median_home_value)\n",
    "            #print(list_0)\n",
    "            list_0 = [q for q in filter(None, list_0)]   ## make a list and remove the Nove value\n",
    "            list_1 = [k for k in filter(None, list_1)] \n",
    "            list_2 = [g for g in filter(None, list_2)] \n",
    "            list_3 = [t for t in filter(None, list_3)] \n",
    "    avg = np.mean(list_0) #calculating mean\n",
    "    avg_pop = np.mean(list_1)\n",
    "    avg_housing_units = np.mean(list_2)\n",
    "    avg_home_value = np.mean(list_3)\n",
    "    \n",
    "    #print(avg)\n",
    "    #print(x)\n",
    "    \n",
    "    average_income.append(avg) #add values to a list\n",
    "    population.append(avg_pop)\n",
    "    average_housing_units.append(avg_housing_units)\n",
    "    average_home_value.append(avg_home_value)\n",
    "    \n",
    "average_income = np.array(average_income) #transform list to numpy array\n",
    "population = np.array(population)\n",
    "average_housing_units = np.array(average_housing_units)\n",
    "average_home_value = np.array(average_home_value)\n",
    "\n",
    "philly_data['average income'] =average_income\n",
    "philly_data['population density'] = population\n",
    "philly_data['average housing units'] = average_housing_units\n",
    "philly_data['average home value'] = average_home_value"
   ]
  },
  {
   "cell_type": "code",
   "execution_count": null,
   "metadata": {},
   "outputs": [],
   "source": [
    "## final dataframe\n",
    "philly_data.head()"
   ]
  },
  {
   "cell_type": "markdown",
   "metadata": {},
   "source": [
    "### Create a map of Philly Neighborhoods"
   ]
  },
  {
   "cell_type": "code",
   "execution_count": null,
   "metadata": {},
   "outputs": [],
   "source": [
    "!jupyter notebook --ip=0.0.0.0 --allow-root #uncomment this if jupyter fail to get addresss from geolocator package"
   ]
  },
  {
   "cell_type": "code",
   "execution_count": null,
   "metadata": {},
   "outputs": [],
   "source": [
    "geolocator = Nominatim(user_agent=\"phil_explorer\")\n",
    "location = geolocator.geocode(\"Philadelphia, PA\")\n",
    "latitude = location.latitude\n",
    "longitude = location.longitude\n",
    "print('The geograpical coordinate of Philadelphia are {}, {}.'.format(latitude, longitude))"
   ]
  },
  {
   "cell_type": "code",
   "execution_count": null,
   "metadata": {},
   "outputs": [],
   "source": [
    "map_philly = folium.Map(location=[latitude, longitude], zoom_start=11)\n",
    "\n",
    "# add markers to map\n",
    "for lat, lng, label in zip(philly_data['lat'], philly_data['lon'], philly_data['Neighborhoods']):\n",
    "    label = folium.Popup(label, parse_html=True)\n",
    "    folium.CircleMarker(\n",
    "        [lat, lng],\n",
    "        radius=5,\n",
    "        popup=label,\n",
    "        color='blue',\n",
    "        fill=True,\n",
    "        fill_color='#3186cc',\n",
    "        fill_opacity=0.7,\n",
    "        parse_html=False).add_to(map_philly)  \n",
    "    \n",
    "map_philly"
   ]
  },
  {
   "cell_type": "markdown",
   "metadata": {},
   "source": [
    "### Define Fousquare Credentials and Version"
   ]
  },
  {
   "cell_type": "code",
   "execution_count": null,
   "metadata": {},
   "outputs": [],
   "source": [
    "CLIENT_ID = 'PA5ZIKIU0LO3MTUN3U42ZN4Y1J3LN4UGYNUOJNZDBZ4GHE4Y' # your Foursquare ID\n",
    "CLIENT_SECRET = 'ORMC5BSDWVJ4PUC0FKKLNPMNVZL50BJOQBV5SQILHQBYUTTL' # your Foursquare Secret\n",
    "VERSION = '20191012' # Foursquare API version\n",
    "\n",
    "print('Your credentails:')\n",
    "print('CLIENT_ID: ' + CLIENT_ID)\n",
    "print('CLIENT_SECRET:' + CLIENT_SECRET)\n",
    "\n",
    "radius = 500\n",
    "LIMIT = 100"
   ]
  },
  {
   "cell_type": "markdown",
   "metadata": {},
   "source": [
    "### Create a function to explore all neighborhoods in Philadelphia"
   ]
  },
  {
   "cell_type": "code",
   "execution_count": null,
   "metadata": {},
   "outputs": [],
   "source": [
    "\n",
    "def getNearbyVenues(names, latitudes, longitudes, radius=500):\n",
    "    \n",
    "    venues_list=[]\n",
    "    for name, lat, lng in zip(names, latitudes, longitudes):\n",
    "        print(name)\n",
    "            \n",
    "        # create the API request URL\n",
    "        url = 'https://api.foursquare.com/v2/venues/explore?&client_id={}&client_secret={}&v={}&ll={},{}&radius={}&limit={}'.format(\n",
    "            CLIENT_ID, \n",
    "            CLIENT_SECRET, \n",
    "            VERSION, \n",
    "            lat, \n",
    "            lng, \n",
    "            radius, \n",
    "            LIMIT)\n",
    "            \n",
    "        # make the GET request\n",
    "        results = requests.get(url).json()[\"response\"]['groups'][0]['items']\n",
    "        \n",
    "        # return only relevant information for each nearby venue\n",
    "        venues_list.append([(\n",
    "            name, \n",
    "            lat, \n",
    "            lng, \n",
    "            v['venue']['name'], \n",
    "            v['venue']['location']['lat'], \n",
    "            v['venue']['location']['lng'],  \n",
    "            v['venue']['categories'][0]['name']) for v in results])\n",
    "\n",
    "    nearby_venues = pd.DataFrame([item for venue_list in venues_list for item in venue_list])\n",
    "    nearby_venues.columns = ['Neighborhoods', \n",
    "                  'Neighbourhood Latitude', \n",
    "                  'Neighbourhood Longitude', \n",
    "                  'Venue', \n",
    "                  'Venue Latitude', \n",
    "                  'Venue Longitude', \n",
    "                  'Venue Category']\n",
    "    \n",
    "    return(nearby_venues)"
   ]
  },
  {
   "cell_type": "markdown",
   "metadata": {},
   "source": [
    "### Get revenues in Philadelphia neighbourhoods"
   ]
  },
  {
   "cell_type": "code",
   "execution_count": null,
   "metadata": {},
   "outputs": [],
   "source": [
    "\n",
    "philly_venues = getNearbyVenues(names=philly_data['Neighborhoods'],\n",
    "                                   latitudes=philly_data['lat'],\n",
    "                                   longitudes=philly_data['lon']\n",
    "                                  )\n"
   ]
  },
  {
   "cell_type": "code",
   "execution_count": null,
   "metadata": {},
   "outputs": [],
   "source": [
    "##check size of philly_venues df\n",
    "print(philly_venues.shape)\n",
    "philly_venues.head()"
   ]
  },
  {
   "cell_type": "code",
   "execution_count": null,
   "metadata": {},
   "outputs": [],
   "source": [
    "#how many unique categories can be curated from all the returned venues\n",
    "print('There are {} uniques categories.'.format(len(philly_venues['Venue Category'].unique())))"
   ]
  },
  {
   "cell_type": "markdown",
   "metadata": {},
   "source": [
    "## 2. Analyze Each Neighborhood"
   ]
  },
  {
   "cell_type": "code",
   "execution_count": null,
   "metadata": {},
   "outputs": [],
   "source": [
    "# one hot encoding\n",
    "philly_onehot = pd.get_dummies(philly_venues[['Venue Category']], prefix=\"\", prefix_sep=\"\")\n",
    "\n",
    "# add neighborhood column back to dataframe\n",
    "philly_onehot['Neighborhoods'] = philly_venues['Neighborhoods'] \n",
    "\n",
    "# move neighborhood column to the first column\n",
    "fixed_columns = [philly_onehot.columns[-1]] + list(philly_onehot.columns[:-1])\n",
    "toronto_onehot = philly_onehot[fixed_columns]\n",
    "\n",
    "philly_onehot.head()"
   ]
  },
  {
   "cell_type": "code",
   "execution_count": null,
   "metadata": {},
   "outputs": [],
   "source": [
    "philly_onehot.shape"
   ]
  },
  {
   "cell_type": "markdown",
   "metadata": {},
   "source": [
    "#### Group rows by neighborhood and by taking the mean of the frequency of occurrence of each category\n"
   ]
  },
  {
   "cell_type": "code",
   "execution_count": null,
   "metadata": {},
   "outputs": [],
   "source": [
    "\n",
    "philly_grouped = philly_onehot.groupby('Neighborhoods').mean().reset_index()\n",
    "philly_grouped"
   ]
  },
  {
   "cell_type": "code",
   "execution_count": null,
   "metadata": {},
   "outputs": [],
   "source": [
    "philly_grouped.shape"
   ]
  },
  {
   "cell_type": "markdown",
   "metadata": {},
   "source": [
    "#### Print each neighborhood along with the top 5 most common venues"
   ]
  },
  {
   "cell_type": "code",
   "execution_count": null,
   "metadata": {},
   "outputs": [],
   "source": [
    "num_top_venues = 5\n",
    "\n",
    "for hood in philly_grouped['Neighborhoods']:\n",
    "    print(\"----\"+hood+\"----\")\n",
    "    temp = philly_grouped[philly_grouped['Neighborhoods'] == hood].T.reset_index()\n",
    "    temp.columns = ['venue','freq']\n",
    "    temp = temp.iloc[1:]\n",
    "    temp['freq'] = temp['freq'].astype(float)\n",
    "    temp = temp.round({'freq': 2})\n",
    "    print(temp.sort_values('freq', ascending=False).reset_index(drop=True).head(num_top_venues))\n",
    "    print('\\n')"
   ]
  },
  {
   "cell_type": "markdown",
   "metadata": {},
   "source": [
    "\n",
    "#### Put results into a pandas dataframe"
   ]
  },
  {
   "cell_type": "markdown",
   "metadata": {},
   "source": [
    "Write a function to sort the venues in descending order.\n"
   ]
  },
  {
   "cell_type": "code",
   "execution_count": null,
   "metadata": {},
   "outputs": [],
   "source": [
    "def return_most_common_venues(row, num_top_venues):\n",
    "    row_categories = row.iloc[1:]\n",
    "    row_categories_sorted = row_categories.sort_values(ascending=False)\n",
    "    \n",
    "    return row_categories_sorted.index.values[0:num_top_venues]"
   ]
  },
  {
   "cell_type": "markdown",
   "metadata": {},
   "source": [
    "Create the new dataframe and display the top 10 venues for each neighborhood."
   ]
  },
  {
   "cell_type": "code",
   "execution_count": null,
   "metadata": {},
   "outputs": [],
   "source": [
    "num_top_venues = 10\n",
    "\n",
    "indicators = ['st', 'nd', 'rd']\n",
    "\n",
    "# create columns according to number of top venues\n",
    "columns = ['Neighborhoods']\n",
    "for ind in np.arange(num_top_venues):\n",
    "    try:\n",
    "        columns.append('{}{} Most Common Venue'.format(ind+1, indicators[ind]))\n",
    "    except:\n",
    "        columns.append('{}th Most Common Venue'.format(ind+1))\n",
    "\n",
    "# create a new dataframe\n",
    "neighborhoods_venues_sorted = pd.DataFrame(columns=columns)\n",
    "neighborhoods_venues_sorted['Neighborhoods'] = philly_grouped['Neighborhoods']\n",
    "\n",
    "for ind in np.arange(philly_grouped.shape[0]):\n",
    "    neighborhoods_venues_sorted.iloc[ind, 1:] = return_most_common_venues(philly_grouped.iloc[ind, :], num_top_venues) # loop through range horizontally for each row \n",
    "\n",
    "neighborhoods_venues_sorted.head()"
   ]
  },
  {
   "cell_type": "markdown",
   "metadata": {},
   "source": [
    "## 4. Cluster Neighborhoods"
   ]
  },
  {
   "cell_type": "markdown",
   "metadata": {},
   "source": [
    "#### Run *k*-means to cluster the neighborhood into 10 clusters."
   ]
  },
  {
   "cell_type": "code",
   "execution_count": null,
   "metadata": {},
   "outputs": [],
   "source": [
    "# set number of clusters\n",
    "kclusters = 10\n",
    "\n",
    "philly_grouped_clustering = philly_grouped.drop('Neighborhoods', 1)\n",
    "\n",
    "# run k-means clustering\n",
    "kmeans = KMeans(n_clusters=kclusters, random_state=0).fit(philly_grouped_clustering)\n",
    "\n",
    "# check cluster labels generated for each row in the dataframe\n",
    "kmeans.labels_"
   ]
  },
  {
   "cell_type": "markdown",
   "metadata": {},
   "source": [
    "#### Create a new dataframe that includes the cluster as well as the top 10 venues for each neighborhood."
   ]
  },
  {
   "cell_type": "code",
   "execution_count": null,
   "metadata": {},
   "outputs": [],
   "source": [
    "# add clustering labels\n",
    "neighborhoods_venues_sorted.insert(0, 'Cluster Labels', kmeans.labels_)\n",
    "\n",
    "philly_merged = philly_data\n",
    "\n",
    "# merge toronto_grouped with toronto_data to add latitude/longitude for each neighborhood\n",
    "philly_merged = philly_merged.join(neighborhoods_venues_sorted.set_index('Neighborhoods'), on='Neighborhoods')\n",
    "\n",
    "philly_merged.head() # check the last columns!"
   ]
  },
  {
   "cell_type": "code",
   "execution_count": null,
   "metadata": {},
   "outputs": [],
   "source": [
    "# create map\n",
    "map_clusters = folium.Map(location=[latitude, longitude], zoom_start=11)\n",
    "\n",
    "# set color scheme for the clusters\n",
    "x = np.arange(kclusters)\n",
    "ys = [i + x + (i*x)**2 for i in range(kclusters)]\n",
    "colors_array = cm.rainbow(np.linspace(0, 1, len(ys)))\n",
    "rainbow = [colors.rgb2hex(i) for i in colors_array]\n",
    "\n",
    "# add markers to the map\n",
    "markers_colors = []\n",
    "for lat, lon, poi, cluster in zip(philly_merged['lat'], philly_merged['lon'], philly_merged['Neighborhoods'], philly_merged['Cluster Labels']):\n",
    "    label = folium.Popup(str(poi) + ' Cluster ' + str(cluster), parse_html=True)\n",
    "    folium.CircleMarker(\n",
    "        [lat, lon],\n",
    "        radius=5,\n",
    "        popup=label,\n",
    "        color=rainbow[cluster-1],\n",
    "        fill=True,\n",
    "        fill_color=rainbow[cluster-1],\n",
    "        fill_opacity=0.7).add_to(map_clusters)\n",
    "       \n",
    "map_clusters"
   ]
  },
  {
   "cell_type": "markdown",
   "metadata": {},
   "source": [
    "## 3. Examine Clusters"
   ]
  },
  {
   "cell_type": "code",
   "execution_count": null,
   "metadata": {},
   "outputs": [],
   "source": [
    "cluster_1 = philly_merged.loc[philly_merged['Cluster Labels'] == 0, philly_merged.columns[[1] + list(range(4, philly_merged.shape[1]))]]\n",
    "cluster_1.sort_values(by=['population density','average home value'], ascending=False).head()"
   ]
  },
  {
   "cell_type": "code",
   "execution_count": null,
   "metadata": {},
   "outputs": [],
   "source": [
    "cluster_2 = philly_merged.loc[philly_merged['Cluster Labels'] == 1, philly_merged.columns[[1] + list(range(4, philly_merged.shape[1]))]]\n",
    "cluster_2.sort_values(by=['population density','average home value'], ascending=False).head()"
   ]
  },
  {
   "cell_type": "code",
   "execution_count": null,
   "metadata": {},
   "outputs": [],
   "source": [
    "cluster_3 = philly_merged.loc[philly_merged['Cluster Labels'] == 2, philly_merged.columns[[1] + list(range(4, philly_merged.shape[1]))]]\n",
    "cluster_3.sort_values(by=['population density','average income'], ascending=False).head()"
   ]
  },
  {
   "cell_type": "code",
   "execution_count": null,
   "metadata": {},
   "outputs": [],
   "source": [
    "cluster_4 = philly_merged.loc[philly_merged['Cluster Labels'] == 3, philly_merged.columns[[1] + list(range(4, philly_merged.shape[1]))]]\n",
    "cluster_4.sort_values(by=['population density','average income'], ascending=False).head()"
   ]
  },
  {
   "cell_type": "code",
   "execution_count": null,
   "metadata": {},
   "outputs": [],
   "source": [
    "cluster_5 = philly_merged.loc[philly_merged['Cluster Labels'] == 4, philly_merged.columns[[1] + list(range(4, philly_merged.shape[1]))]]\n",
    "cluster_5.sort_values(by=['population density','average income'], ascending=False).head()"
   ]
  },
  {
   "cell_type": "code",
   "execution_count": null,
   "metadata": {},
   "outputs": [],
   "source": [
    "cluster_6 = philly_merged.loc[philly_merged['Cluster Labels'] == 5, philly_merged.columns[[1] + list(range(4, philly_merged.shape[1]))]]\n",
    "cluster_6.sort_values(by=['population density','average income'], ascending=False).head()"
   ]
  },
  {
   "cell_type": "code",
   "execution_count": null,
   "metadata": {},
   "outputs": [],
   "source": [
    "cluster_7 = philly_merged.loc[philly_merged['Cluster Labels'] == 6, philly_merged.columns[[1] + list(range(4, philly_merged.shape[1]))]]\n",
    "cluster_7.sort_values(by=['population density','average home value'], ascending=False).head()"
   ]
  },
  {
   "cell_type": "code",
   "execution_count": null,
   "metadata": {},
   "outputs": [],
   "source": [
    "cluster_8 = philly_merged.loc[philly_merged['Cluster Labels'] == 7, philly_merged.columns[[1] + list(range(4, philly_merged.shape[1]))]]\n",
    "cluster_8.sort_values(by=['population density','average income'], ascending=False).head()"
   ]
  },
  {
   "cell_type": "code",
   "execution_count": null,
   "metadata": {},
   "outputs": [],
   "source": [
    "cluster_9 = philly_merged.loc[philly_merged['Cluster Labels'] == 8, philly_merged.columns[[1] + list(range(4, philly_merged.shape[1]))]]\n",
    "cluster_9.sort_values(by=['population density' ,'average income'], ascending=False).head()"
   ]
  },
  {
   "cell_type": "code",
   "execution_count": null,
   "metadata": {},
   "outputs": [],
   "source": [
    "cluster_10 = philly_merged.loc[philly_merged['Cluster Labels'] == 9, philly_merged.columns[[1] + list(range(4, philly_merged.shape[1]))]]\n",
    "cluster_10.sort_values(by=['population density','average income'], ascending=False).head()"
   ]
  },
  {
   "cell_type": "code",
   "execution_count": null,
   "metadata": {},
   "outputs": [],
   "source": []
  }
 ],
 "metadata": {
  "kernelspec": {
   "display_name": "Python",
   "language": "python",
   "name": "conda-env-python-py"
  },
  "language_info": {
   "codemirror_mode": {
    "name": "ipython",
    "version": 3
   },
   "file_extension": ".py",
   "mimetype": "text/x-python",
   "name": "python",
   "nbconvert_exporter": "python",
   "pygments_lexer": "ipython3",
   "version": "3.6.7"
  }
 },
 "nbformat": 4,
 "nbformat_minor": 4
}
